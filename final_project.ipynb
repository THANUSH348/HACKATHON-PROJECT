{
  "nbformat": 4,
  "nbformat_minor": 0,
  "metadata": {
    "colab": {
      "provenance": []
    },
    "kernelspec": {
      "name": "python3",
      "display_name": "Python 3"
    },
    "language_info": {
      "name": "python"
    }
  },
  "cells": [
    {
      "cell_type": "markdown",
      "source": [
        "Develop a model to analyze the nutrient composition of various foods and suggest healthier alternatives."
      ],
      "metadata": {
        "id": "RJkhwhLFhKXu"
      }
    },
    {
      "cell_type": "code",
      "source": [
        "import pandas as pd\n",
        "import numpy as np\n",
        "from sklearn.linear_model import LinearRegression\n",
        "import matplotlib.pyplot as plt\n",
        "\n",
        "# Read in the dataset\n",
        "df = pd.read_csv('/content/food_calorie_conversion_factor.csv')\n",
        "\n",
        "# Define the independent and dependent variables\n",
        "X = df['carbohydrate_value'].values.reshape(-1,1)\n",
        "y = df['protein_value'].values.reshape(-1,1)"
      ],
      "metadata": {
        "id": "9X_3ySuRmJdK"
      },
      "execution_count": 1,
      "outputs": []
    },
    {
      "cell_type": "code",
      "source": [
        "df "
      ],
      "metadata": {
        "colab": {
          "base_uri": "https://localhost:8080/",
          "height": 423
        },
        "id": "VXpgkEfY7W9r",
        "outputId": "242815ed-ea94-4f27-cb65-efa586aac14f"
      },
      "execution_count": 2,
      "outputs": [
        {
          "output_type": "execute_result",
          "data": {
            "text/plain": [
              "     food_nutrient_conversion_factor_id  protein_value  fat_value  \\\n",
              "0                                 22503           3.47       8.37   \n",
              "1                                 22505           4.27       8.79   \n",
              "2                                 22507           2.44       8.37   \n",
              "3                                 22510           2.44       8.37   \n",
              "4                                 22512           2.44       8.37   \n",
              "..                                  ...            ...        ...   \n",
              "230                               22932           3.36       8.37   \n",
              "231                               22933           3.36       8.37   \n",
              "232                               22934           3.36       8.37   \n",
              "233                               22935           3.36       8.37   \n",
              "234                               22936           3.36       8.37   \n",
              "\n",
              "     carbohydrate_value  \n",
              "0                  4.07  \n",
              "1                  3.87  \n",
              "2                  3.57  \n",
              "3                  3.57  \n",
              "4                  3.57  \n",
              "..                  ...  \n",
              "230                3.60  \n",
              "231                3.60  \n",
              "232                3.60  \n",
              "233                3.60  \n",
              "234                3.60  \n",
              "\n",
              "[235 rows x 4 columns]"
            ],
            "text/html": [
              "\n",
              "  <div id=\"df-202baf3f-c590-45b2-bd30-05c9014665ff\">\n",
              "    <div class=\"colab-df-container\">\n",
              "      <div>\n",
              "<style scoped>\n",
              "    .dataframe tbody tr th:only-of-type {\n",
              "        vertical-align: middle;\n",
              "    }\n",
              "\n",
              "    .dataframe tbody tr th {\n",
              "        vertical-align: top;\n",
              "    }\n",
              "\n",
              "    .dataframe thead th {\n",
              "        text-align: right;\n",
              "    }\n",
              "</style>\n",
              "<table border=\"1\" class=\"dataframe\">\n",
              "  <thead>\n",
              "    <tr style=\"text-align: right;\">\n",
              "      <th></th>\n",
              "      <th>food_nutrient_conversion_factor_id</th>\n",
              "      <th>protein_value</th>\n",
              "      <th>fat_value</th>\n",
              "      <th>carbohydrate_value</th>\n",
              "    </tr>\n",
              "  </thead>\n",
              "  <tbody>\n",
              "    <tr>\n",
              "      <th>0</th>\n",
              "      <td>22503</td>\n",
              "      <td>3.47</td>\n",
              "      <td>8.37</td>\n",
              "      <td>4.07</td>\n",
              "    </tr>\n",
              "    <tr>\n",
              "      <th>1</th>\n",
              "      <td>22505</td>\n",
              "      <td>4.27</td>\n",
              "      <td>8.79</td>\n",
              "      <td>3.87</td>\n",
              "    </tr>\n",
              "    <tr>\n",
              "      <th>2</th>\n",
              "      <td>22507</td>\n",
              "      <td>2.44</td>\n",
              "      <td>8.37</td>\n",
              "      <td>3.57</td>\n",
              "    </tr>\n",
              "    <tr>\n",
              "      <th>3</th>\n",
              "      <td>22510</td>\n",
              "      <td>2.44</td>\n",
              "      <td>8.37</td>\n",
              "      <td>3.57</td>\n",
              "    </tr>\n",
              "    <tr>\n",
              "      <th>4</th>\n",
              "      <td>22512</td>\n",
              "      <td>2.44</td>\n",
              "      <td>8.37</td>\n",
              "      <td>3.57</td>\n",
              "    </tr>\n",
              "    <tr>\n",
              "      <th>...</th>\n",
              "      <td>...</td>\n",
              "      <td>...</td>\n",
              "      <td>...</td>\n",
              "      <td>...</td>\n",
              "    </tr>\n",
              "    <tr>\n",
              "      <th>230</th>\n",
              "      <td>22932</td>\n",
              "      <td>3.36</td>\n",
              "      <td>8.37</td>\n",
              "      <td>3.60</td>\n",
              "    </tr>\n",
              "    <tr>\n",
              "      <th>231</th>\n",
              "      <td>22933</td>\n",
              "      <td>3.36</td>\n",
              "      <td>8.37</td>\n",
              "      <td>3.60</td>\n",
              "    </tr>\n",
              "    <tr>\n",
              "      <th>232</th>\n",
              "      <td>22934</td>\n",
              "      <td>3.36</td>\n",
              "      <td>8.37</td>\n",
              "      <td>3.60</td>\n",
              "    </tr>\n",
              "    <tr>\n",
              "      <th>233</th>\n",
              "      <td>22935</td>\n",
              "      <td>3.36</td>\n",
              "      <td>8.37</td>\n",
              "      <td>3.60</td>\n",
              "    </tr>\n",
              "    <tr>\n",
              "      <th>234</th>\n",
              "      <td>22936</td>\n",
              "      <td>3.36</td>\n",
              "      <td>8.37</td>\n",
              "      <td>3.60</td>\n",
              "    </tr>\n",
              "  </tbody>\n",
              "</table>\n",
              "<p>235 rows × 4 columns</p>\n",
              "</div>\n",
              "      <button class=\"colab-df-convert\" onclick=\"convertToInteractive('df-202baf3f-c590-45b2-bd30-05c9014665ff')\"\n",
              "              title=\"Convert this dataframe to an interactive table.\"\n",
              "              style=\"display:none;\">\n",
              "        \n",
              "  <svg xmlns=\"http://www.w3.org/2000/svg\" height=\"24px\"viewBox=\"0 0 24 24\"\n",
              "       width=\"24px\">\n",
              "    <path d=\"M0 0h24v24H0V0z\" fill=\"none\"/>\n",
              "    <path d=\"M18.56 5.44l.94 2.06.94-2.06 2.06-.94-2.06-.94-.94-2.06-.94 2.06-2.06.94zm-11 1L8.5 8.5l.94-2.06 2.06-.94-2.06-.94L8.5 2.5l-.94 2.06-2.06.94zm10 10l.94 2.06.94-2.06 2.06-.94-2.06-.94-.94-2.06-.94 2.06-2.06.94z\"/><path d=\"M17.41 7.96l-1.37-1.37c-.4-.4-.92-.59-1.43-.59-.52 0-1.04.2-1.43.59L10.3 9.45l-7.72 7.72c-.78.78-.78 2.05 0 2.83L4 21.41c.39.39.9.59 1.41.59.51 0 1.02-.2 1.41-.59l7.78-7.78 2.81-2.81c.8-.78.8-2.07 0-2.86zM5.41 20L4 18.59l7.72-7.72 1.47 1.35L5.41 20z\"/>\n",
              "  </svg>\n",
              "      </button>\n",
              "      \n",
              "  <style>\n",
              "    .colab-df-container {\n",
              "      display:flex;\n",
              "      flex-wrap:wrap;\n",
              "      gap: 12px;\n",
              "    }\n",
              "\n",
              "    .colab-df-convert {\n",
              "      background-color: #E8F0FE;\n",
              "      border: none;\n",
              "      border-radius: 50%;\n",
              "      cursor: pointer;\n",
              "      display: none;\n",
              "      fill: #1967D2;\n",
              "      height: 32px;\n",
              "      padding: 0 0 0 0;\n",
              "      width: 32px;\n",
              "    }\n",
              "\n",
              "    .colab-df-convert:hover {\n",
              "      background-color: #E2EBFA;\n",
              "      box-shadow: 0px 1px 2px rgba(60, 64, 67, 0.3), 0px 1px 3px 1px rgba(60, 64, 67, 0.15);\n",
              "      fill: #174EA6;\n",
              "    }\n",
              "\n",
              "    [theme=dark] .colab-df-convert {\n",
              "      background-color: #3B4455;\n",
              "      fill: #D2E3FC;\n",
              "    }\n",
              "\n",
              "    [theme=dark] .colab-df-convert:hover {\n",
              "      background-color: #434B5C;\n",
              "      box-shadow: 0px 1px 3px 1px rgba(0, 0, 0, 0.15);\n",
              "      filter: drop-shadow(0px 1px 2px rgba(0, 0, 0, 0.3));\n",
              "      fill: #FFFFFF;\n",
              "    }\n",
              "  </style>\n",
              "\n",
              "      <script>\n",
              "        const buttonEl =\n",
              "          document.querySelector('#df-202baf3f-c590-45b2-bd30-05c9014665ff button.colab-df-convert');\n",
              "        buttonEl.style.display =\n",
              "          google.colab.kernel.accessAllowed ? 'block' : 'none';\n",
              "\n",
              "        async function convertToInteractive(key) {\n",
              "          const element = document.querySelector('#df-202baf3f-c590-45b2-bd30-05c9014665ff');\n",
              "          const dataTable =\n",
              "            await google.colab.kernel.invokeFunction('convertToInteractive',\n",
              "                                                     [key], {});\n",
              "          if (!dataTable) return;\n",
              "\n",
              "          const docLinkHtml = 'Like what you see? Visit the ' +\n",
              "            '<a target=\"_blank\" href=https://colab.research.google.com/notebooks/data_table.ipynb>data table notebook</a>'\n",
              "            + ' to learn more about interactive tables.';\n",
              "          element.innerHTML = '';\n",
              "          dataTable['output_type'] = 'display_data';\n",
              "          await google.colab.output.renderOutput(dataTable, element);\n",
              "          const docLink = document.createElement('div');\n",
              "          docLink.innerHTML = docLinkHtml;\n",
              "          element.appendChild(docLink);\n",
              "        }\n",
              "      </script>\n",
              "    </div>\n",
              "  </div>\n",
              "  "
            ]
          },
          "metadata": {},
          "execution_count": 2
        }
      ]
    },
    {
      "cell_type": "code",
      "source": [
        "#DATA CLEANING AND PREPROCESSING\n",
        " #1.Drop unnecessary columns:\n",
        "df.drop(['fat_value'], axis=1, inplace=True)\n",
        " #2.Check for missing values:\n",
        "df.isnull().sum()\n"
      ],
      "metadata": {
        "colab": {
          "base_uri": "https://localhost:8080/"
        },
        "id": "0r6-LXDuAHC7",
        "outputId": "78899993-446f-4dce-aa9e-af1746403826"
      },
      "execution_count": 3,
      "outputs": [
        {
          "output_type": "execute_result",
          "data": {
            "text/plain": [
              "food_nutrient_conversion_factor_id    0\n",
              "protein_value                         0\n",
              "carbohydrate_value                    0\n",
              "dtype: int64"
            ]
          },
          "metadata": {},
          "execution_count": 3
        }
      ]
    },
    {
      "cell_type": "code",
      "source": [
        "#3.Normalize the data:\n",
        "from sklearn.preprocessing import MinMaxScaler\n",
        "scaler = MinMaxScaler()\n",
        "df_scaled = pd.DataFrame(scaler.fit_transform(df), columns=df.columns)"
      ],
      "metadata": {
        "id": "79V-QF1pBLy0"
      },
      "execution_count": 4,
      "outputs": []
    },
    {
      "cell_type": "code",
      "source": [
        "#Data Visualization\n",
        "plt.plot(df['protein_value'].head(10), df['carbohydrate_value'].head(10), marker = 'o', color = 'red')"
      ],
      "metadata": {
        "colab": {
          "base_uri": "https://localhost:8080/",
          "height": 283
        },
        "id": "MdS-BnqyDHqd",
        "outputId": "0835043a-d3ec-441e-aec9-e0a7fdab90be"
      },
      "execution_count": 5,
      "outputs": [
        {
          "output_type": "execute_result",
          "data": {
            "text/plain": [
              "[<matplotlib.lines.Line2D at 0x7f9df9784a00>]"
            ]
          },
          "metadata": {},
          "execution_count": 5
        },
        {
          "output_type": "display_data",
          "data": {
            "text/plain": [
              "<Figure size 432x288 with 1 Axes>"
            ],
            "image/png": "[encoded data removed]"
          },
          "metadata": {
            "needs_background": "light"
          }
        }
      ]
    },
    {
      "cell_type": "code",
      "source": [
        " #Draw the scatter plot \n",
        "x = df['protein_value']\n",
        "y = df['carbohydrate_value']\n",
        "plt.scatter(x, y, c = 'red')"
      ],
      "metadata": {
        "colab": {
          "base_uri": "https://localhost:8080/",
          "height": 283
        },
        "id": "3OYDPqXkEzhi",
        "outputId": "9038da07-6922-487a-f939-5bd2a40ef3e8"
      },
      "execution_count": 6,
      "outputs": [
        {
          "output_type": "execute_result",
          "data": {
            "text/plain": [
              "<matplotlib.collections.PathCollection at 0x7f9df6e80dc0>"
            ]
          },
          "metadata": {},
          "execution_count": 6
        },
        {
          "output_type": "display_data",
          "data": {
            "text/plain": [
              "<Figure size 432x288 with 1 Axes>"
            ],
            "image/png": "[encoded data removed]"
          },
          "metadata": {
            "needs_background": "light"
          }
        }
      ]
    },
    {
      "cell_type": "code",
      "source": [
        "#EXPLORATORY DATA ANALYSIS\n",
        "#Central tendancy measure\n",
        "print('Mean',df['protein_value'].mean())\n",
        "print('Median',df['protein_value'].median())\n",
        "print('Mode',df['protein_value'].mode())"
      ],
      "metadata": {
        "colab": {
          "base_uri": "https://localhost:8080/"
        },
        "id": "eu4_OGkEBPKk",
        "outputId": "9140050e-17eb-44e5-b364-b431faad82b7"
      },
      "execution_count": 7,
      "outputs": [
        {
          "output_type": "stream",
          "name": "stdout",
          "text": [
            "Mean 3.4432340425531915\n",
            "Median 3.46\n",
            "Mode 0    4.27\n",
            "dtype: float64\n"
          ]
        }
      ]
    },
    {
      "cell_type": "code",
      "source": [
        "#Measure of dispersion\n",
        "min=df['protein_value'].min()\n",
        "max=df['protein_value'].max()\n",
        "print(min,max)\n",
        "print('Range',max-min)\n",
        "print('var',df['protein_value'].var())\n",
        "print('std',df['protein_value'].std())"
      ],
      "metadata": {
        "colab": {
          "base_uri": "https://localhost:8080/"
        },
        "id": "qLKoc7ZHB10k",
        "outputId": "e5cf49c7-91c5-4693-ef7a-4b270b39369c"
      },
      "execution_count": 8,
      "outputs": [
        {
          "output_type": "stream",
          "name": "stdout",
          "text": [
            "0.0 4.36\n",
            "Range 4.36\n",
            "var 0.7136382142207672\n",
            "std 0.8447711016723803\n"
          ]
        }
      ]
    },
    {
      "cell_type": "code",
      "source": [
        "#IQR\n",
        "Q1=df['protein_value'].quantile(.25)\n",
        "Q3=df['protein_value'].quantile(.75)\n",
        "print('IQR',Q3-Q1)"
      ],
      "metadata": {
        "colab": {
          "base_uri": "https://localhost:8080/"
        },
        "id": "qf59Z5xrCAMx",
        "outputId": "3bbe68a7-1f4d-4c83-cd88-209f4cfa6ff3"
      },
      "execution_count": 9,
      "outputs": [
        {
          "output_type": "stream",
          "name": "stdout",
          "text": [
            "IQR 1.4899999999999998\n"
          ]
        }
      ]
    },
    {
      "cell_type": "code",
      "source": [
        "#ZCORE \n",
        "import scipy.stats as stats\n",
        "Zscore=stats.zscore(df['protein_value'])\n",
        "print('Zscore',Zscore)"
      ],
      "metadata": {
        "colab": {
          "base_uri": "https://localhost:8080/"
        },
        "id": "DSwyTVdxCIXQ",
        "outputId": "56371ff3-18a3-441f-9f70-af2f168e40c0"
      },
      "execution_count": 10,
      "outputs": [
        {
          "output_type": "stream",
          "name": "stdout",
          "text": [
            "Zscore 0      0.031752\n",
            "1      0.980775\n",
            "2     -1.190116\n",
            "3     -1.190116\n",
            "4     -1.190116\n",
            "         ...   \n",
            "230   -0.098739\n",
            "231   -0.098739\n",
            "232   -0.098739\n",
            "233   -0.098739\n",
            "234   -0.098739\n",
            "Name: protein_value, Length: 235, dtype: float64\n"
          ]
        }
      ]
    },
    {
      "cell_type": "code",
      "source": [
        "#BOXPLOT (OUTLIER DETECTION)\n",
        "import seaborn as sns\n",
        "sns.catplot(x='protein_value',kind='box',data=df)\n",
        "print('Mean',df['protein_value'].mean())\n",
        "print( 'Median' ,df['protein_value'].median())\n",
        "print( 'Mode' ,df[ 'protein_value' ].mode())"
      ],
      "metadata": {
        "colab": {
          "base_uri": "https://localhost:8080/",
          "height": 442
        },
        "id": "zDWJfRs-CVmK",
        "outputId": "06ef0a46-03a8-4968-d052-9ba4aeeeb4a6"
      },
      "execution_count": 11,
      "outputs": [
        {
          "output_type": "stream",
          "name": "stdout",
          "text": [
            "Mean 3.4432340425531915\n",
            "Median 3.46\n",
            "Mode 0    4.27\n",
            "dtype: float64\n"
          ]
        },
        {
          "output_type": "display_data",
          "data": {
            "text/plain": [
              "<Figure size 360x360 with 1 Axes>"
            ],
            "image/png": "[encoded data removed]"
          },
          "metadata": {
            "needs_background": "light"
          }
        }
      ]
    },
    {
      "cell_type": "code",
      "source": [
        "#REMOVING OUTLIER\n",
        "Ql=df['protein_value'].quantile(.25)\n",
        "Q3=df['protein_value'].quantile(.75)\n",
        "IQR=Q3-Q1\n",
        "print('IQR',Q3-Q1)\n",
        "lb=Q1-1.5*IQR\n",
        "\n",
        "ub=Q3+1.5*IQR\n",
        "\n",
        "dfout=df[(df['protein_value']>lb) & (df['protein_value']<ub) ]\n",
        "dfout.shape\n",
        "dfout.tail()\n",
        "sns.catplot(x='protein_value',kind='box',data=dfout)"
      ],
      "metadata": {
        "colab": {
          "base_uri": "https://localhost:8080/",
          "height": 406
        },
        "id": "z2-tZ269Cg5C",
        "outputId": "c5c49ee4-f329-489f-b825-e34775f98685"
      },
      "execution_count": 12,
      "outputs": [
        {
          "output_type": "stream",
          "name": "stdout",
          "text": [
            "IQR 1.4899999999999998\n"
          ]
        },
        {
          "output_type": "execute_result",
          "data": {
            "text/plain": [
              "<seaborn.axisgrid.FacetGrid at 0x7f9df6b07d00>"
            ]
          },
          "metadata": {},
          "execution_count": 12
        },
        {
          "output_type": "display_data",
          "data": {
            "text/plain": [
              "<Figure size 360x360 with 1 Axes>"
            ],
            "image/png": "[encoded data removed]"
          },
          "metadata": {
            "needs_background": "light"
          }
        }
      ]
    },
    {
      "cell_type": "code",
      "source": [
        "from sklearn.model_selection import train_test_split\n",
        "from sklearn.linear_model import LinearRegression\n",
        "\n",
        "# Split the dataset into training and testing sets\n",
        "X_train, X_test, y_train, y_test = train_test_split(X, y, test_size=0.2, random_state=42)\n",
        "\n",
        "# Create a linear regression model and fit it to the training data\n",
        "model = LinearRegression()\n",
        "model.fit(X_train, y_train)\n",
        "\n",
        "# Make predictions on the test set\n",
        "y_pred = model.predict(X_test)"
      ],
      "metadata": {
        "id": "O7hNhADN6kSR"
      },
      "execution_count": 13,
      "outputs": []
    },
    {
      "cell_type": "code",
      "source": [
        "print('Intercept:', model.intercept_)\n",
        "print('Slope:', model.coef_[0])"
      ],
      "metadata": {
        "colab": {
          "base_uri": "https://localhost:8080/"
        },
        "id": "TApw8fZK6p5R",
        "outputId": "5b277800-9725-43d9-ccc4-03090011514d"
      },
      "execution_count": 14,
      "outputs": [
        {
          "output_type": "stream",
          "name": "stdout",
          "text": [
            "Intercept: -8.881784197001252e-16\n",
            "Slope: 1.0000000000000002\n"
          ]
        }
      ]
    },
    {
      "cell_type": "code",
      "source": [
        "print(y_test,y_pred)"
      ],
      "metadata": {
        "colab": {
          "base_uri": "https://localhost:8080/"
        },
        "id": "d1l7tQOYigiw",
        "outputId": "b7b959b5-3a9b-4177-d903-6cb2591dc2f8"
      },
      "execution_count": 15,
      "outputs": [
        {
          "output_type": "stream",
          "name": "stdout",
          "text": [
            "69     3.87\n",
            "207    3.87\n",
            "180    3.84\n",
            "9      4.07\n",
            "127    3.60\n",
            "109    3.87\n",
            "196    4.07\n",
            "93     3.87\n",
            "223    4.03\n",
            "15     3.57\n",
            "225    3.70\n",
            "55     3.60\n",
            "228    3.70\n",
            "30     3.84\n",
            "201    3.60\n",
            "147    3.57\n",
            "19     4.07\n",
            "112    4.12\n",
            "226    3.70\n",
            "24     4.07\n",
            "209    3.57\n",
            "10     3.87\n",
            "95     3.87\n",
            "144    4.00\n",
            "221    4.03\n",
            "25     3.87\n",
            "86     3.60\n",
            "183    3.57\n",
            "84     3.60\n",
            "18     3.57\n",
            "146    3.57\n",
            "66     4.00\n",
            "45     3.87\n",
            "139    3.48\n",
            "125    3.60\n",
            "170    3.48\n",
            "164    3.92\n",
            "16     3.87\n",
            "156    3.57\n",
            "177    0.00\n",
            "161    4.12\n",
            "204    3.87\n",
            "124    3.60\n",
            "60     3.87\n",
            "199    3.60\n",
            "230    3.60\n",
            "82     3.87\n",
            "Name: carbohydrate_value, dtype: float64 [ 3.8700000e+00  3.8700000e+00  3.8400000e+00  4.0700000e+00\n",
            "  3.6000000e+00  3.8700000e+00  4.0700000e+00  3.8700000e+00\n",
            "  4.0300000e+00  3.5700000e+00  3.7000000e+00  3.6000000e+00\n",
            "  3.7000000e+00  3.8400000e+00  3.6000000e+00  3.5700000e+00\n",
            "  4.0700000e+00  4.1200000e+00  3.7000000e+00  4.0700000e+00\n",
            "  3.5700000e+00  3.8700000e+00  3.8700000e+00  4.0000000e+00\n",
            "  4.0300000e+00  3.8700000e+00  3.6000000e+00  3.5700000e+00\n",
            "  3.6000000e+00  3.5700000e+00  3.5700000e+00  4.0000000e+00\n",
            "  3.8700000e+00  3.4800000e+00  3.6000000e+00  3.4800000e+00\n",
            "  3.9200000e+00  3.8700000e+00  3.5700000e+00 -8.8817842e-16\n",
            "  4.1200000e+00  3.8700000e+00  3.6000000e+00  3.8700000e+00\n",
            "  3.6000000e+00  3.6000000e+00  3.8700000e+00]\n"
          ]
        }
      ]
    },
    {
      "cell_type": "code",
      "source": [
        "n = float(input(\"Enter the carbohydrate value:\"))\n",
        "n = np.array(n).reshape(-1,1)\n",
        "print(model.predict(n)[0])"
      ],
      "metadata": {
        "colab": {
          "base_uri": "https://localhost:8080/"
        },
        "id": "CXRrfJaF7QXk",
        "outputId": "c29deece-1502-4d00-dc3d-6255ec555b49"
      },
      "execution_count": 16,
      "outputs": [
        {
          "output_type": "stream",
          "name": "stdout",
          "text": [
            "Enter the carbohydrate value:2.45\n",
            "2.4499999999999997\n"
          ]
        }
      ]
    }
  ]
}